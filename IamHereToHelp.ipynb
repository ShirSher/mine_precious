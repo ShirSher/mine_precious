{
 "cells": [
  {
   "cell_type": "code",
   "execution_count": null,
   "metadata": {},
   "outputs": [],
   "source": [
    "import pickle\n",
    "import numpy as np\n",
    "import matplotlib.pyplot as plt\n",
    "from torchvision import datasets"
   ]
  },
  {
   "attachments": {},
   "cell_type": "markdown",
   "metadata": {},
   "source": [
    "Plottings of training and validation results and losses"
   ]
  },
  {
   "cell_type": "code",
   "execution_count": null,
   "metadata": {},
   "outputs": [],
   "source": [
    "# Load the pickle file\n",
    "def ploting(path):\n",
    "    with open(path, 'rb') as file:\n",
    "        data = pickle.load(file)\n",
    "        plt.plot(data)\n",
    "        plt.title(file.name)\n",
    "        plt.show()\n",
    "\n",
    "def plotings(file_name):\n",
    "    ploting('outputs/'+file_name)\n",
    "    # ploting('outputs_wrong_img/'+file_name)\n",
    "    \n",
    "plotings('train_losses')\n",
    "plotings('train_results')\n",
    "plotings('val_losses')\n",
    "plotings('val_results')"
   ]
  },
  {
   "attachments": {},
   "cell_type": "markdown",
   "metadata": {},
   "source": [
    "Printing selection arrays"
   ]
  },
  {
   "cell_type": "code",
   "execution_count": null,
   "metadata": {},
   "outputs": [],
   "source": [
    "with open('outputs/train_selection.pickle', 'rb') as file:\n",
    "    print('train_selection')\n",
    "    data = pickle.load(file)\n",
    "    print(data)\n",
    "with open('outputs/val_selection.pickle', 'rb') as file:\n",
    "    print('val_selection')\n",
    "    data = pickle.load(file)\n",
    "    print(data)"
   ]
  },
  {
   "attachments": {},
   "cell_type": "markdown",
   "metadata": {},
   "source": [
    "Loading Cifar100 and creating labels array"
   ]
  },
  {
   "cell_type": "code",
   "execution_count": null,
   "metadata": {},
   "outputs": [],
   "source": [
    "\n",
    "# Load CIFAR-100 dataset\n",
    "cifar100 = datasets.CIFAR100(root='./cifar100data', train=True, download=True)\n",
    "cifar100_lables = []\n",
    "for i in range(len(cifar100)):\n",
    "    cifar100_lables.append(cifar100[i][1])\n",
    "cifar100_lables = np.array(cifar100_lables)\n",
    "print(len(cifar100_lables))\n"
   ]
  },
  {
   "attachments": {},
   "cell_type": "markdown",
   "metadata": {},
   "source": [
    "Show specific image in Cifar / specific label"
   ]
  },
  {
   "cell_type": "code",
   "execution_count": null,
   "metadata": {},
   "outputs": [],
   "source": [
    "\n",
    "loc = np.where(cifar100_lables==17)[0][40-1]\n",
    "print(cifar100[loc][1])\n",
    "plt.imshow(cifar100[loc][0])\n",
    "plt.axis('off')  # Disable axis\n",
    "plt.show()\n",
    "\n",
    "\n",
    "arr = np.where(cifar100_lables==61)[0]\n",
    "i=0\n",
    "for location in arr:\n",
    "    print(i)\n",
    "    i+=1\n",
    "    plt.imshow(cifar100[location][0])\n",
    "    plt.axis('off')  # Disable axis\n",
    "    plt.show()"
   ]
  },
  {
   "attachments": {},
   "cell_type": "markdown",
   "metadata": {},
   "source": [
    "Conversion Fucntion from Unity's stupidity to normal sequensing. "
   ]
  },
  {
   "cell_type": "code",
   "execution_count": null,
   "metadata": {},
   "outputs": [],
   "source": [
    "def conv_alph_to_num(num):\n",
    "    if num<2 or num>89:\n",
    "        return num\n",
    "    units = num%10\n",
    "    tens = num//10\n",
    "    if (units - tens) == 1:\n",
    "        return units\n",
    "    temp = tens*10 + tens + 1\n",
    "    if (num > temp):\n",
    "        temp += 11\n",
    "    return num + (10 - temp%10)"
   ]
  },
  {
   "attachments": {},
   "cell_type": "markdown",
   "metadata": {},
   "source": [
    "Printing participant's image set in the event order"
   ]
  },
  {
   "cell_type": "code",
   "execution_count": null,
   "metadata": {},
   "outputs": [],
   "source": [
    "\n",
    "simset = 32\n",
    "\n",
    "if simset == 32 :\n",
    "    # SHL\n",
    "    labels= [83,80,58,44,1,52,9,29,46,14,6,23,69,91,54,5,76,78,62,70,50,90,13,56,95,21,82,11,43,65,71,51,34,12,8,66,79,63,72,24,10,67,27,77,41,49,17,53,18,98,92,47,26,25,7,31,59,20,42,89,48,68,32,86,81,37,85,87,39,97,4,16,75,94,0,93,57,40,74,88,30,33,99,38,3,64,36,15,73,19,84,28,96,2,35,55,22,61,60,45,75,14,97,29,69,24,69,64,25,43,62,12,87,43,40,27,9,21,83,63,56,69]\n",
    "\n",
    "if simset == 52 :\n",
    "    # AEI\n",
    "    labels = [46,48,12,41,47,69,0,39,95,98,57,64,49,7,77,18,51,56,8,36,9,71,20,58,42,62,19,72,66,79,55,94,87,78,63,14,4,89,3,91,37,33,31,70,35,25,27,1,86,22,26,5,10,15,99,54,21,34,68,24,96,45,75,43,97,84,11,13,29,17,53,76,90,50,88,30,2,82,93,73,85,28,81,23,16,74,32,60,61,83,38,6,40,92,44,80,52,67,59,65,1,56,98,18,22,76,86,12,40,23,34,33,38,12,86,82,14,62,79,11,28,36]\n",
    "\n",
    "if simset == 40 :\n",
    "    # AM\n",
    "    labels = [79,93,9,33,47,95,43,90,96,56,30,66,77,17,80,31,41,58,7,42,12,24,85,82,72,87,61,99,53,74,71,55,6,40,25,37,2,91,36,44,13,27,0,89,68,21,57,26,45,32,29,23,54,49,86,92,3,88,14,67,70,60,11,10,16,4,18,39,69,38,48,76,15,59,8,81,73,62,75,35,65,98,84,46,63,5,94,51,64,20,97,52,1,78,22,50,28,83,19,34,12,50,2,6,68,22,6,72,13,82,69,21,73,48,28,26,28,87,13,11,42,81]\n",
    "\n",
    "labels = [conv_alph_to_num(num) for num in labels]\n",
    "for lbl in labels:\n",
    "    loc = np.where(cifar100_lables==lbl)[0][simset-1]\n",
    "    # Display the image\n",
    "    print(cifar100[loc][1])\n",
    "    plt.imshow(cifar100[loc][0])\n",
    "    plt.axis('off')  # Disable axis\n",
    "    plt.show()\n",
    "\n"
   ]
  },
  {
   "cell_type": "code",
   "execution_count": null,
   "metadata": {},
   "outputs": [],
   "source": [
    "import scipy.io\n",
    "mat = scipy.io.loadmat('PrIdx_9_TrIdx_3.mat')"
   ]
  },
  {
   "cell_type": "code",
   "execution_count": null,
   "metadata": {},
   "outputs": [],
   "source": [
    "for i in range(11):\n",
    "    ProcessData = mat['ProcessData']['GIW'][0][0][0][0][0][i][0]\n",
    "    print(i, ProcessData)\n",
    "\n",
    "print(type(ProcessData))  #[0][0][17])[0][0][0][0][0])\n"
   ]
  }
 ],
 "metadata": {
  "kernelspec": {
   "display_name": "Python 3",
   "language": "python",
   "name": "python3"
  },
  "language_info": {
   "codemirror_mode": {
    "name": "ipython",
    "version": 3
   },
   "file_extension": ".py",
   "mimetype": "text/x-python",
   "name": "python",
   "nbconvert_exporter": "python",
   "pygments_lexer": "ipython3",
   "version": "3.10.9"
  },
  "orig_nbformat": 4
 },
 "nbformat": 4,
 "nbformat_minor": 2
}
