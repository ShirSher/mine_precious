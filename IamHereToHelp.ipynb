{
 "cells": [
  {
   "cell_type": "code",
   "execution_count": null,
   "metadata": {},
   "outputs": [],
   "source": [
    "import pickle\n",
    "import torch\n",
    "\n",
    "import matplotlib.pyplot as plt\n"
   ]
  },
  {
   "cell_type": "code",
   "execution_count": null,
   "metadata": {},
   "outputs": [],
   "source": [
    "# Load the pickle file\n",
    "path_to_file = [\n",
    "                'outputs/train_losses',\n",
    "                'outputs/train_results',\n",
    "                'outputs/val_losses',\n",
    "                'outputs/val_results'\n",
    "                ]\n",
    "for f in path_to_file:\n",
    "    print(f)\n",
    "    with open(f, 'rb') as file:\n",
    "        data = pickle.load(file)\n",
    "    plt.plot(data)\n",
    "    plt.title(file.name)\n",
    "    plt.show()\n",
    "\n"
   ]
  },
  {
   "cell_type": "code",
   "execution_count": null,
   "metadata": {},
   "outputs": [],
   "source": [
    "with open('outputs/train_selection.pickle', 'rb') as file:\n",
    "    data = pickle.load(file)\n",
    "    print(data)"
   ]
  },
  {
   "cell_type": "code",
   "execution_count": null,
   "metadata": {},
   "outputs": [],
   "source": [
    "with open('outputs/val_selection.pickle', 'rb') as file:\n",
    "    data = pickle.load(file)\n",
    "    print(data)"
   ]
  },
  {
   "cell_type": "code",
   "execution_count": null,
   "metadata": {},
   "outputs": [],
   "source": [
    "# Load the pickle file\n",
    "path_to_file = [\n",
    "                # 'outputs/batchwise_loss',\n",
    "                'outputs/batchwise_res'\n",
    "                ]\n",
    "for f in path_to_file:\n",
    "    print(f)\n",
    "    with open(f, 'rb') as file:\n",
    "        data = pickle.load(file)\n",
    "        print(len(data['train'][0]))\n",
    "        plt.plot(data['train'])\n",
    "        plt.title(file.name)\n",
    "        plt.show()"
   ]
  }
 ],
 "metadata": {
  "kernelspec": {
   "display_name": "Python 3",
   "language": "python",
   "name": "python3"
  },
  "language_info": {
   "codemirror_mode": {
    "name": "ipython",
    "version": 3
   },
   "file_extension": ".py",
   "mimetype": "text/x-python",
   "name": "python",
   "nbconvert_exporter": "python",
   "pygments_lexer": "ipython3",
   "version": "3.10.9"
  },
  "orig_nbformat": 4
 },
 "nbformat": 4,
 "nbformat_minor": 2
}
