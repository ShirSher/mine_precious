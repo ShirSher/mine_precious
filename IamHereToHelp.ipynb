{
 "cells": [
  {
   "cell_type": "code",
   "execution_count": 1,
   "metadata": {},
   "outputs": [],
   "source": [
    "import pickle\n",
    "import matplotlib.pyplot as plt\n"
   ]
  },
  {
   "cell_type": "code",
   "execution_count": 15,
   "metadata": {},
   "outputs": [
    {
     "name": "stdout",
     "output_type": "stream",
     "text": [
      "outputs/losses_train\n",
      "          0\n",
      "0  0.947854\n",
      "1  1.122821\n",
      "outputs/losses_val\n",
      "          0\n",
      "0  1.063889\n",
      "1  1.128489\n",
      "outputs/results_train\n",
      "          0\n",
      "0 -0.001577\n",
      "1 -0.005486\n",
      "outputs/results_val\n",
      "          0\n",
      "0 -0.005950\n",
      "1 -0.000011\n",
      "outputs/batchwise_loss\n",
      "                                               train  \\\n",
      "0  [tensor(0.9758), tensor(0.9102), tensor(0.8923...   \n",
      "1  [tensor(1.0718), tensor(1.0677), tensor(1.0973...   \n",
      "\n",
      "                           validate  \n",
      "0  [tensor(1.0668), tensor(1.0610)]  \n",
      "1  [tensor(1.1256), tensor(1.1314)]  \n",
      "outputs/batchwise_res\n",
      "                                               train  \\\n",
      "0  [tensor(0.0028), tensor(-0.0046), tensor(-0.01...   \n",
      "1  [tensor(-0.0133), tensor(0.0282), tensor(0.004...   \n",
      "\n",
      "                            validate  \n",
      "0  [tensor(-0.0179), tensor(0.0060)]  \n",
      "1  [tensor(0.0286), tensor(-0.0286)]  \n"
     ]
    }
   ],
   "source": [
    "# Load the pickle file\n",
    "path_to_file = ['outputs/losses_train', \n",
    "                'outputs/losses_val', \n",
    "                'outputs/results_train',\n",
    "                'outputs/results_val',\n",
    "                'outputs/batchwise_loss',\n",
    "                'outputs/batchwise_res']\n",
    "for f in path_to_file:\n",
    "    print(f)\n",
    "    with open(f, 'rb') as file:\n",
    "        data = pickle.load(file)\n",
    "    print(data)"
   ]
  },
  {
   "cell_type": "code",
   "execution_count": 13,
   "metadata": {},
   "outputs": [
    {
     "name": "stdout",
     "output_type": "stream",
     "text": [
      "outputs/results_train_2023_06_06_03_05_05_PM\n"
     ]
    }
   ],
   "source": [
    "\n",
    "from datetime import datetime\n",
    "_datestr = datetime.now().strftime(\"%Y_%m_%d_%I_%M_%S_%p\")\n",
    "output_path = 'outputs/'\n",
    "a = (output_path+'results_train_'+_datestr)\n",
    "print(a)"
   ]
  }
 ],
 "metadata": {
  "kernelspec": {
   "display_name": "Python 3",
   "language": "python",
   "name": "python3"
  },
  "language_info": {
   "codemirror_mode": {
    "name": "ipython",
    "version": 3
   },
   "file_extension": ".py",
   "mimetype": "text/x-python",
   "name": "python",
   "nbconvert_exporter": "python",
   "pygments_lexer": "ipython3",
   "version": "3.10.9"
  },
  "orig_nbformat": 4
 },
 "nbformat": 4,
 "nbformat_minor": 2
}
