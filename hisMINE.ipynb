{
 "cells": [
  {
   "cell_type": "code",
   "execution_count": 4,
   "metadata": {},
   "outputs": [],
   "source": [
    "import torch\n",
    "from torch.autograd import Variable\n",
    "import torch.nn as nn\n",
    "import torch.nn.functional as F\n",
    "from tqdm import tqdm\n",
    "import holoviews as hv\n",
    "import bokeh\n",
    "import numpy as np"
   ]
  },
  {
   "cell_type": "code",
   "execution_count": 5,
   "metadata": {},
   "outputs": [],
   "source": [
    "# data\n",
    "var = 0.2\n",
    "def func(x):\n",
    "    return x\n",
    "\n",
    "def gen_x():\n",
    "    return np.sign(np.random.normal(0.,1.,[data_size,1]))\n",
    "\n",
    "def gen_y(x):\n",
    "    return func(x)+np.random.normal(0.,np.sqrt(var),[data_size,1])"
   ]
  },
  {
   "cell_type": "code",
   "execution_count": 6,
   "metadata": {},
   "outputs": [
    {
     "data": {
      "text/plain": [
       "0.6586318513282028"
      ]
     },
     "execution_count": 6,
     "metadata": {},
     "output_type": "execute_result"
    }
   ],
   "source": [
    "data_size = 1000000\n",
    "x=gen_x()\n",
    "y=gen_y(x)\n",
    "p_y_x=np.exp(-(y-x)**2/(2*var))\n",
    "p_y_x_minus=np.exp(-(y+1)**2/(2*var))\n",
    "p_y_x_plus=np.exp(-(y-1)**2/(2*var))\n",
    "mi=np.average(np.log(p_y_x/(0.5*p_y_x_minus+0.5*p_y_x_plus)))\n",
    "mi"
   ]
  },
  {
   "cell_type": "code",
   "execution_count": 7,
   "metadata": {},
   "outputs": [
    {
     "name": "stderr",
     "output_type": "stream",
     "text": [
      "100%|██████████| 500/500 [00:05<00:00, 89.08it/s]\n"
     ]
    }
   ],
   "source": [
    "H=10\n",
    "n_epoch = 500\n",
    "data_size = 20000\n",
    "\n",
    "class Net(nn.Module):\n",
    "    def __init__(self):\n",
    "        super(Net, self).__init__()\n",
    "        self.fc1 = nn.Linear(1, H)\n",
    "        self.fc2 = nn.Linear(1, H)\n",
    "        self.fc3 = nn.Linear(H, 1)\n",
    "\n",
    "    def forward(self, x, y):\n",
    "        h1 = F.relu(self.fc1(x)+self.fc2(y))\n",
    "        h2 = self.fc3(h1)\n",
    "        return h2    \n",
    "\n",
    "model = Net()\n",
    "optimizer = torch.optim.Adam(model.parameters(), lr=0.01)\n",
    "plot_loss = []\n",
    "for epoch in tqdm(range(n_epoch)):\n",
    "    x_sample=gen_x()\n",
    "    y_sample=gen_y(x_sample)\n",
    "    y_shuffle=np.random.permutation(y_sample)\n",
    "    \n",
    "    x_sample = Variable(torch.from_numpy(x_sample).type(torch.FloatTensor), requires_grad = True)\n",
    "    y_sample = Variable(torch.from_numpy(y_sample).type(torch.FloatTensor), requires_grad = True)\n",
    "    y_shuffle = Variable(torch.from_numpy(y_shuffle).type(torch.FloatTensor), requires_grad = True)    \n",
    "    \n",
    "    pred_xy = model(x_sample, y_sample)\n",
    "    pred_x_y = model(x_sample, y_shuffle)\n",
    "\n",
    "    ret = torch.mean(pred_xy) - torch.log(torch.mean(torch.exp(pred_x_y)))\n",
    "    loss = - ret  # maximize\n",
    "    plot_loss.append(loss.data.numpy())\n",
    "    model.zero_grad()\n",
    "    loss.backward()\n",
    "    optimizer.step()"
   ]
  },
  {
   "cell_type": "code",
   "execution_count": 8,
   "metadata": {},
   "outputs": [
    {
     "data": {},
     "metadata": {},
     "output_type": "display_data"
    },
    {
     "data": {
      "application/vnd.holoviews_exec.v0+json": "",
      "text/html": [
       "<div id='1002'>\n",
       "  <div class=\"bk-root\" id=\"91a9fb23-ba7e-476c-8589-f50be0b86fb8\" data-root-id=\"1002\"></div>\n",
       "</div>\n",
       "<script type=\"application/javascript\">(function(root) {\n",
       "  function embed_document(root) {\n",
       "    var docs_json = {\"93e3ff9a-cb63-4166-bf66-8afe4019f9de\":{\"defs\":[{\"extends\":null,\"module\":null,\"name\":\"ReactiveHTML1\",\"overrides\":[],\"properties\":[]},{\"extends\":null,\"module\":null,\"name\":\"FlexBox1\",\"overrides\":[],\"properties\":[{\"default\":\"flex-start\",\"kind\":null,\"name\":\"align_content\"},{\"default\":\"flex-start\",\"kind\":null,\"name\":\"align_items\"},{\"default\":\"row\",\"kind\":null,\"name\":\"flex_direction\"},{\"default\":\"wrap\",\"kind\":null,\"name\":\"flex_wrap\"},{\"default\":\"flex-start\",\"kind\":null,\"name\":\"justify_content\"}]},{\"extends\":null,\"module\":null,\"name\":\"GridStack1\",\"overrides\":[],\"properties\":[{\"default\":\"warn\",\"kind\":null,\"name\":\"mode\"},{\"default\":null,\"kind\":null,\"name\":\"ncols\"},{\"default\":null,\"kind\":null,\"name\":\"nrows\"},{\"default\":true,\"kind\":null,\"name\":\"allow_resize\"},{\"default\":true,\"kind\":null,\"name\":\"allow_drag\"},{\"default\":[],\"kind\":null,\"name\":\"state\"}]},{\"extends\":null,\"module\":null,\"name\":\"click1\",\"overrides\":[],\"properties\":[{\"default\":\"\",\"kind\":null,\"name\":\"terminal_output\"},{\"default\":\"\",\"kind\":null,\"name\":\"debug_name\"},{\"default\":0,\"kind\":null,\"name\":\"clears\"}]},{\"extends\":null,\"module\":null,\"name\":\"NotificationAreaBase1\",\"overrides\":[],\"properties\":[{\"default\":\"bottom-right\",\"kind\":null,\"name\":\"position\"},{\"default\":0,\"kind\":null,\"name\":\"_clear\"}]},{\"extends\":null,\"module\":null,\"name\":\"NotificationArea1\",\"overrides\":[],\"properties\":[{\"default\":[],\"kind\":null,\"name\":\"notifications\"},{\"default\":\"bottom-right\",\"kind\":null,\"name\":\"position\"},{\"default\":0,\"kind\":null,\"name\":\"_clear\"},{\"default\":[{\"background\":\"#ffc107\",\"icon\":{\"className\":\"fas fa-exclamation-triangle\",\"color\":\"white\",\"tagName\":\"i\"},\"type\":\"warning\"},{\"background\":\"#007bff\",\"icon\":{\"className\":\"fas fa-info-circle\",\"color\":\"white\",\"tagName\":\"i\"},\"type\":\"info\"}],\"kind\":null,\"name\":\"types\"}]},{\"extends\":null,\"module\":null,\"name\":\"Notification\",\"overrides\":[],\"properties\":[{\"default\":null,\"kind\":null,\"name\":\"background\"},{\"default\":3000,\"kind\":null,\"name\":\"duration\"},{\"default\":null,\"kind\":null,\"name\":\"icon\"},{\"default\":\"\",\"kind\":null,\"name\":\"message\"},{\"default\":null,\"kind\":null,\"name\":\"notification_type\"},{\"default\":false,\"kind\":null,\"name\":\"_destroyed\"}]},{\"extends\":null,\"module\":null,\"name\":\"TemplateActions1\",\"overrides\":[],\"properties\":[{\"default\":0,\"kind\":null,\"name\":\"open_modal\"},{\"default\":0,\"kind\":null,\"name\":\"close_modal\"}]},{\"extends\":null,\"module\":null,\"name\":\"MaterialTemplateActions1\",\"overrides\":[],\"properties\":[{\"default\":0,\"kind\":null,\"name\":\"open_modal\"},{\"default\":0,\"kind\":null,\"name\":\"close_modal\"}]}],\"roots\":{\"references\":[{\"attributes\":{\"coordinates\":null,\"group\":null,\"text_color\":\"black\",\"text_font_size\":\"12pt\"},\"id\":\"1006\",\"type\":\"Title\"},{\"attributes\":{},\"id\":\"1019\",\"type\":\"BasicTicker\"},{\"attributes\":{\"active_drag\":{\"id\":\"1023\"},\"active_scroll\":{\"id\":\"1024\"},\"tools\":[{\"id\":\"1022\"},{\"id\":\"1023\"},{\"id\":\"1024\"},{\"id\":\"1025\"},{\"id\":\"1026\"}]},\"id\":\"1028\",\"type\":\"Toolbar\"},{\"attributes\":{},\"id\":\"1071\",\"type\":\"UnionRenderers\"},{\"attributes\":{\"line_color\":\"#30a2da\",\"line_width\":2,\"x\":{\"field\":\"x\"},\"y\":{\"field\":\"y\"}},\"id\":\"1043\",\"type\":\"Line\"},{\"attributes\":{},\"id\":\"1069\",\"type\":\"UnionRenderers\"},{\"attributes\":{\"coordinates\":null,\"data_source\":{\"id\":\"1049\"},\"glyph\":{\"id\":\"1052\"},\"group\":null,\"hover_glyph\":null,\"muted_glyph\":{\"id\":\"1054\"},\"nonselection_glyph\":{\"id\":\"1053\"},\"selection_glyph\":{\"id\":\"1057\"},\"view\":{\"id\":\"1056\"}},\"id\":\"1055\",\"type\":\"GlyphRenderer\"},{\"attributes\":{},\"id\":\"1012\",\"type\":\"LinearScale\"},{\"attributes\":{},\"id\":\"1041\",\"type\":\"Selection\"},{\"attributes\":{\"end\":0.7445760548114777,\"reset_end\":0.7445760548114777,\"reset_start\":-0.07733811736106873,\"start\":-0.07733811736106873,\"tags\":[[[\"y\",\"y\",null]]]},\"id\":\"1004\",\"type\":\"Range1d\"},{\"attributes\":{\"axis_label\":\"x\",\"coordinates\":null,\"formatter\":{\"id\":\"1035\"},\"group\":null,\"major_label_policy\":{\"id\":\"1036\"},\"ticker\":{\"id\":\"1015\"}},\"id\":\"1014\",\"type\":\"LinearAxis\"},{\"attributes\":{},\"id\":\"1022\",\"type\":\"SaveTool\"},{\"attributes\":{\"line_color\":\"#fc4f30\",\"line_width\":2,\"x\":{\"field\":\"x\"},\"y\":{\"field\":\"y\"}},\"id\":\"1057\",\"type\":\"Line\"},{\"attributes\":{},\"id\":\"1026\",\"type\":\"ResetTool\"},{\"attributes\":{},\"id\":\"1015\",\"type\":\"BasicTicker\"},{\"attributes\":{\"line_alpha\":0.1,\"line_color\":\"#30a2da\",\"line_width\":2,\"x\":{\"field\":\"x\"},\"y\":{\"field\":\"y\"}},\"id\":\"1044\",\"type\":\"Line\"},{\"attributes\":{\"line_color\":\"#fc4f30\",\"line_width\":2,\"x\":{\"field\":\"x\"},\"y\":{\"field\":\"y\"}},\"id\":\"1052\",\"type\":\"Line\"},{\"attributes\":{\"data\":{\"x\":{\"__ndarray__\":\"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\",\"dtype\":\"int32\",\"order\":\"little\",\"shape\":[500]},\"y\":{\"__ndarray__\":\"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\",\"dtype\":\"float32\",\"order\":\"little\",\"shape\":[500]}},\"selected\":{\"id\":\"1041\"},\"selection_policy\":{\"id\":\"1069\"}},\"id\":\"1040\",\"type\":\"ColumnDataSource\"},{\"attributes\":{\"overlay\":{\"id\":\"1027\"}},\"id\":\"1025\",\"type\":\"BoxZoomTool\"},{\"attributes\":{\"data\":{\"x\":{\"__ndarray__\":\"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\",\"dtype\":\"int32\",\"order\":\"little\",\"shape\":[500]},\"y\":{\"__ndarray__\":\"xN+xGoMT5T/E37EagxPlP8TfsRqDE+U/xN+xGoMT5T/E37EagxPlP8TfsRqDE+U/xN+xGoMT5T/E37EagxPlP8TfsRqDE+U/xN+xGoMT5T/E37EagxPlP8TfsRqDE+U/xN+xGoMT5T/E37EagxPlP8TfsRqDE+U/xN+xGoMT5T/E37EagxPlP8TfsRqDE+U/xN+xGoMT5T/E37EagxPlP8TfsRqDE+U/xN+xGoMT5T/E37EagxPlP8TfsRqDE+U/xN+xGoMT5T/E37EagxPlP8TfsRqDE+U/xN+xGoMT5T/E37EagxPlP8TfsRqDE+U/xN+xGoMT5T/E37EagxPlP8TfsRqDE+U/xN+xGoMT5T/E37EagxPlP8TfsRqDE+U/xN+xGoMT5T/E37EagxPlP8TfsRqDE+U/xN+xGoMT5T/E37EagxPlP8TfsRqDE+U/xN+xGoMT5T/E37EagxPlP8TfsRqDE+U/xN+xGoMT5T/E37EagxPlP8TfsRqDE+U/xN+xGoMT5T/E37EagxPlP8TfsRqDE+U/xN+xGoMT5T/E37EagxPlP8TfsRqDE+U/xN+xGoMT5T/E37EagxPlP8TfsRqDE+U/xN+xGoMT5T/E37EagxPlP8TfsRqDE+U/xN+xGoMT5T/E37EagxPlP8TfsRqDE+U/xN+xGoMT5T/E37EagxPlP8TfsRqDE+U/xN+xGoMT5T/E37EagxPlP8TfsRqDE+U/xN+xGoMT5T/E37EagxPlP8TfsRqDE+U/xN+xGoMT5T/E37EagxPlP8TfsRqDE+U/xN+xGoMT5T/E37EagxPlP8TfsRqDE+U/xN+xGoMT5T/E37EagxPlP8TfsRqDE+U/xN+xGoMT5T/E37EagxPlP8TfsRqDE+U/xN+xGoMT5T/E37EagxPlP8TfsRqDE+U/xN+xGoMT5T/E37EagxPlP8TfsRqDE+U/xN+xGoMT5T/E37EagxPlP8TfsRqDE+U/xN+xGoMT5T/E37EagxPlP8TfsRqDE+U/xN+xGoMT5T/E37EagxPlP8TfsRqDE+U/xN+xGoMT5T/E37EagxPlP8TfsRqDE+U/xN+xGoMT5T/E37EagxPlP8TfsRqDE+U/xN+xGoMT5T/E37EagxPlP8TfsRqDE+U/xN+xGoMT5T/E37EagxPlP8TfsRqDE+U/xN+xGoMT5T/E37EagxPlP8TfsRqDE+U/xN+xGoMT5T/E37EagxPlP8TfsRqDE+U/xN+xGoMT5T/E37EagxPlP8TfsRqDE+U/xN+xGoMT5T/E37EagxPlP8TfsRqDE+U/xN+xGoMT5T/E37EagxPlP8TfsRqDE+U/xN+xGoMT5T/E37EagxPlP8TfsRqDE+U/xN+xGoMT5T/E37EagxPlP8TfsRqDE+U/xN+xGoMT5T/E37EagxPlP8TfsRqDE+U/xN+xGoMT5T/E37EagxPlP8TfsRqDE+U/xN+xGoMT5T/E37EagxPlP8TfsRqDE+U/xN+xGoMT5T/E37EagxPlP8TfsRqDE+U/xN+xGoMT5T/E37EagxPlP8TfsRqDE+U/xN+xGoMT5T/E37EagxPlP8TfsRqDE+U/xN+xGoMT5T/E37EagxPlP8TfsRqDE+U/xN+xGoMT5T/E37EagxPlP8TfsRqDE+U/xN+xGoMT5T/E37EagxPlP8TfsRqDE+U/xN+xGoMT5T/E37EagxPlP8TfsRqDE+U/xN+xGoMT5T/E37EagxPlP8TfsRqDE+U/xN+xGoMT5T/E37EagxPlP8TfsRqDE+U/xN+xGoMT5T/E37EagxPlP8TfsRqDE+U/xN+xGoMT5T/E37EagxPlP8TfsRqDE+U/xN+xGoMT5T/E37EagxPlP8TfsRqDE+U/xN+xGoMT5T/E37EagxPlP8TfsRqDE+U/xN+xGoMT5T/E37EagxPlP8TfsRqDE+U/xN+xGoMT5T/E37EagxPlP8TfsRqDE+U/xN+xGoMT5T/E37EagxPlP8TfsRqDE+U/xN+xGoMT5T/E37EagxPlP8TfsRqDE+U/xN+xGoMT5T/E37EagxPlP8TfsRqDE+U/xN+xGoMT5T/E37EagxPlP8TfsRqDE+U/xN+xGoMT5T/E37EagxPlP8TfsRqDE+U/xN+xGoMT5T/E37EagxPlP8TfsRqDE+U/xN+xGoMT5T/E37EagxPlP8TfsRqDE+U/xN+xGoMT5T/E37EagxPlP8TfsRqDE+U/xN+xGoMT5T/E37EagxPlP8TfsRqDE+U/xN+xGoMT5T/E37EagxPlP8TfsRqDE+U/xN+xGoMT5T/E37EagxPlP8TfsRqDE+U/xN+xGoMT5T/E37EagxPlP8TfsRqDE+U/xN+xGoMT5T/E37EagxPlP8TfsRqDE+U/xN+xGoMT5T/E37EagxPlP8TfsRqDE+U/xN+xGoMT5T/E37EagxPlP8TfsRqDE+U/xN+xGoMT5T/E37EagxPlP8TfsRqDE+U/xN+xGoMT5T/E37EagxPlP8TfsRqDE+U/xN+xGoMT5T/E37EagxPlP8TfsRqDE+U/xN+xGoMT5T/E37EagxPlP8TfsRqDE+U/xN+xGoMT5T/E37EagxPlP8TfsRqDE+U/xN+xGoMT5T/E37EagxPlP8TfsRqDE+U/xN+xGoMT5T/E37EagxPlP8TfsRqDE+U/xN+xGoMT5T/E37EagxPlP8TfsRqDE+U/xN+xGoMT5T/E37EagxPlP8TfsRqDE+U/xN+xGoMT5T/E37EagxPlP8TfsRqDE+U/xN+xGoMT5T/E37EagxPlP8TfsRqDE+U/xN+xGoMT5T/E37EagxPlP8TfsRqDE+U/xN+xGoMT5T/E37EagxPlP8TfsRqDE+U/xN+xGoMT5T/E37EagxPlP8TfsRqDE+U/xN+xGoMT5T/E37EagxPlP8TfsRqDE+U/xN+xGoMT5T/E37EagxPlP8TfsRqDE+U/xN+xGoMT5T/E37EagxPlP8TfsRqDE+U/xN+xGoMT5T/E37EagxPlP8TfsRqDE+U/xN+xGoMT5T/E37EagxPlP8TfsRqDE+U/xN+xGoMT5T/E37EagxPlP8TfsRqDE+U/xN+xGoMT5T/E37EagxPlP8TfsRqDE+U/xN+xGoMT5T/E37EagxPlP8TfsRqDE+U/xN+xGoMT5T/E37EagxPlP8TfsRqDE+U/xN+xGoMT5T/E37EagxPlP8TfsRqDE+U/xN+xGoMT5T/E37EagxPlP8TfsRqDE+U/xN+xGoMT5T/E37EagxPlP8TfsRqDE+U/xN+xGoMT5T/E37EagxPlP8TfsRqDE+U/xN+xGoMT5T/E37EagxPlP8TfsRqDE+U/xN+xGoMT5T/E37EagxPlP8TfsRqDE+U/xN+xGoMT5T/E37EagxPlP8TfsRqDE+U/xN+xGoMT5T/E37EagxPlP8TfsRqDE+U/xN+xGoMT5T/E37EagxPlP8TfsRqDE+U/xN+xGoMT5T/E37EagxPlP8TfsRqDE+U/xN+xGoMT5T/E37EagxPlP8TfsRqDE+U/xN+xGoMT5T/E37EagxPlP8TfsRqDE+U/xN+xGoMT5T/E37EagxPlP8TfsRqDE+U/xN+xGoMT5T/E37EagxPlP8TfsRqDE+U/xN+xGoMT5T/E37EagxPlP8TfsRqDE+U/xN+xGoMT5T/E37EagxPlP8TfsRqDE+U/xN+xGoMT5T/E37EagxPlP8TfsRqDE+U/xN+xGoMT5T/E37EagxPlP8TfsRqDE+U/xN+xGoMT5T/E37EagxPlP8TfsRqDE+U/xN+xGoMT5T/E37EagxPlP8TfsRqDE+U/xN+xGoMT5T/E37EagxPlP8TfsRqDE+U/xN+xGoMT5T/E37EagxPlP8TfsRqDE+U/xN+xGoMT5T/E37EagxPlP8TfsRqDE+U/xN+xGoMT5T/E37EagxPlP8TfsRqDE+U/xN+xGoMT5T/E37EagxPlP8TfsRqDE+U/xN+xGoMT5T/E37EagxPlP8TfsRqDE+U/xN+xGoMT5T/E37EagxPlP8TfsRqDE+U/xN+xGoMT5T/E37EagxPlP8TfsRqDE+U/xN+xGoMT5T/E37EagxPlP8TfsRqDE+U/xN+xGoMT5T/E37EagxPlP8TfsRqDE+U/xN+xGoMT5T/E37EagxPlP8TfsRqDE+U/xN+xGoMT5T/E37EagxPlP8TfsRqDE+U/xN+xGoMT5T/E37EagxPlP8TfsRqDE+U/xN+xGoMT5T/E37EagxPlP8TfsRqDE+U/xN+xGoMT5T/E37EagxPlP8TfsRqDE+U/xN+xGoMT5T/E37EagxPlP8TfsRqDE+U/xN+xGoMT5T/E37EagxPlP8TfsRqDE+U/xN+xGoMT5T/E37EagxPlP8TfsRqDE+U/xN+xGoMT5T/E37EagxPlP8TfsRqDE+U/xN+xGoMT5T/E37EagxPlP8TfsRqDE+U/xN+xGoMT5T/E37EagxPlP8TfsRqDE+U/xN+xGoMT5T/E37EagxPlP8TfsRqDE+U/xN+xGoMT5T/E37EagxPlP8TfsRqDE+U/xN+xGoMT5T/E37EagxPlP8TfsRqDE+U/xN+xGoMT5T/E37EagxPlP8TfsRqDE+U/xN+xGoMT5T/E37EagxPlP8TfsRqDE+U/xN+xGoMT5T/E37EagxPlP8TfsRqDE+U/xN+xGoMT5T/E37EagxPlP8TfsRqDE+U/xN+xGoMT5T/E37EagxPlP8TfsRqDE+U/xN+xGoMT5T/E37EagxPlP8TfsRqDE+U/xN+xGoMT5T/E37EagxPlP8TfsRqDE+U/xN+xGoMT5T/E37EagxPlP8TfsRqDE+U/xN+xGoMT5T/E37EagxPlP8TfsRqDE+U/xN+xGoMT5T/E37EagxPlP8TfsRqDE+U/xN+xGoMT5T/E37EagxPlP8TfsRqDE+U/xN+xGoMT5T/E37EagxPlP8TfsRqDE+U/xN+xGoMT5T/E37EagxPlP8TfsRqDE+U/xN+xGoMT5T/E37EagxPlP8TfsRqDE+U/xN+xGoMT5T/E37EagxPlP8TfsRqDE+U/xN+xGoMT5T/E37EagxPlP8TfsRqDE+U/xN+xGoMT5T/E37EagxPlP8TfsRqDE+U/xN+xGoMT5T/E37EagxPlP8TfsRqDE+U/xN+xGoMT5T/E37EagxPlP8TfsRqDE+U/xN+xGoMT5T/E37EagxPlP8TfsRqDE+U/xN+xGoMT5T/E37EagxPlP8TfsRqDE+U/xN+xGoMT5T/E37EagxPlP8TfsRqDE+U/xN+xGoMT5T/E37EagxPlPw==\",\"dtype\":\"float64\",\"order\":\"little\",\"shape\":[500]}},\"selected\":{\"id\":\"1050\"},\"selection_policy\":{\"id\":\"1071\"}},\"id\":\"1049\",\"type\":\"ColumnDataSource\"},{\"attributes\":{\"children\":[{\"id\":\"1005\"}],\"height\":300,\"margin\":[0,0,0,0],\"name\":\"Row00790\",\"sizing_mode\":\"fixed\",\"tags\":[\"embedded\"],\"width\":300},\"id\":\"1002\",\"type\":\"Row\"},{\"attributes\":{\"axis_label\":\"y\",\"coordinates\":null,\"formatter\":{\"id\":\"1038\"},\"group\":null,\"major_label_policy\":{\"id\":\"1039\"},\"ticker\":{\"id\":\"1019\"}},\"id\":\"1018\",\"type\":\"LinearAxis\"},{\"attributes\":{\"source\":{\"id\":\"1040\"}},\"id\":\"1047\",\"type\":\"CDSView\"},{\"attributes\":{\"coordinates\":null,\"data_source\":{\"id\":\"1040\"},\"glyph\":{\"id\":\"1043\"},\"group\":null,\"hover_glyph\":null,\"muted_glyph\":{\"id\":\"1045\"},\"nonselection_glyph\":{\"id\":\"1044\"},\"selection_glyph\":{\"id\":\"1048\"},\"view\":{\"id\":\"1047\"}},\"id\":\"1046\",\"type\":\"GlyphRenderer\"},{\"attributes\":{\"below\":[{\"id\":\"1014\"}],\"center\":[{\"id\":\"1017\"},{\"id\":\"1021\"}],\"height\":300,\"left\":[{\"id\":\"1018\"}],\"margin\":[5,5,5,5],\"min_border_bottom\":10,\"min_border_left\":10,\"min_border_right\":10,\"min_border_top\":10,\"renderers\":[{\"id\":\"1046\"},{\"id\":\"1055\"}],\"sizing_mode\":\"fixed\",\"title\":{\"id\":\"1006\"},\"toolbar\":{\"id\":\"1028\"},\"width\":300,\"x_range\":{\"id\":\"1003\"},\"x_scale\":{\"id\":\"1010\"},\"y_range\":{\"id\":\"1004\"},\"y_scale\":{\"id\":\"1012\"}},\"id\":\"1005\",\"subtype\":\"Figure\",\"type\":\"Plot\"},{\"attributes\":{\"axis\":{\"id\":\"1014\"},\"coordinates\":null,\"grid_line_color\":null,\"group\":null,\"ticker\":null},\"id\":\"1017\",\"type\":\"Grid\"},{\"attributes\":{},\"id\":\"1010\",\"type\":\"LinearScale\"},{\"attributes\":{\"line_color\":\"#30a2da\",\"line_width\":2,\"x\":{\"field\":\"x\"},\"y\":{\"field\":\"y\"}},\"id\":\"1048\",\"type\":\"Line\"},{\"attributes\":{\"line_alpha\":0.2,\"line_color\":\"#30a2da\",\"line_width\":2,\"x\":{\"field\":\"x\"},\"y\":{\"field\":\"y\"}},\"id\":\"1045\",\"type\":\"Line\"},{\"attributes\":{\"source\":{\"id\":\"1049\"}},\"id\":\"1056\",\"type\":\"CDSView\"},{\"attributes\":{},\"id\":\"1023\",\"type\":\"PanTool\"},{\"attributes\":{},\"id\":\"1039\",\"type\":\"AllLabels\"},{\"attributes\":{},\"id\":\"1036\",\"type\":\"AllLabels\"},{\"attributes\":{\"bottom_units\":\"screen\",\"coordinates\":null,\"fill_alpha\":0.5,\"fill_color\":\"lightgrey\",\"group\":null,\"left_units\":\"screen\",\"level\":\"overlay\",\"line_alpha\":1.0,\"line_color\":\"black\",\"line_dash\":[4,4],\"line_width\":2,\"right_units\":\"screen\",\"syncable\":false,\"top_units\":\"screen\"},\"id\":\"1027\",\"type\":\"BoxAnnotation\"},{\"attributes\":{},\"id\":\"1035\",\"type\":\"BasicTickFormatter\"},{\"attributes\":{},\"id\":\"1050\",\"type\":\"Selection\"},{\"attributes\":{\"line_alpha\":0.1,\"line_color\":\"#fc4f30\",\"line_width\":2,\"x\":{\"field\":\"x\"},\"y\":{\"field\":\"y\"}},\"id\":\"1053\",\"type\":\"Line\"},{\"attributes\":{\"end\":499.0,\"reset_end\":499.0,\"reset_start\":0.0,\"tags\":[[[\"x\",\"x\",null]]]},\"id\":\"1003\",\"type\":\"Range1d\"},{\"attributes\":{\"axis\":{\"id\":\"1018\"},\"coordinates\":null,\"dimension\":1,\"grid_line_color\":null,\"group\":null,\"ticker\":null},\"id\":\"1021\",\"type\":\"Grid\"},{\"attributes\":{},\"id\":\"1038\",\"type\":\"BasicTickFormatter\"},{\"attributes\":{\"line_alpha\":0.2,\"line_color\":\"#fc4f30\",\"line_width\":2,\"x\":{\"field\":\"x\"},\"y\":{\"field\":\"y\"}},\"id\":\"1054\",\"type\":\"Line\"},{\"attributes\":{},\"id\":\"1024\",\"type\":\"WheelZoomTool\"}],\"root_ids\":[\"1002\"]},\"title\":\"Bokeh Application\",\"version\":\"2.4.3\"}};\n",
       "    var render_items = [{\"docid\":\"93e3ff9a-cb63-4166-bf66-8afe4019f9de\",\"root_ids\":[\"1002\"],\"roots\":{\"1002\":\"91a9fb23-ba7e-476c-8589-f50be0b86fb8\"}}];\n",
       "    root.Bokeh.embed.embed_items_notebook(docs_json, render_items);\n",
       "    for (const render_item of render_items) {\n",
       "      for (const root_id of render_item.root_ids) {\n",
       "\tconst id_el = document.getElementById(root_id)\n",
       "\tif (id_el.children.length && (id_el.children[0].className === 'bk-root')) {\n",
       "\t  const root_el = id_el.children[0]\n",
       "\t  root_el.id = root_el.id + '-rendered'\n",
       "\t}\n",
       "      }\n",
       "    }\n",
       "  }\n",
       "  if (root.Bokeh !== undefined && root.Bokeh.Panel !== undefined) {\n",
       "    embed_document(root);\n",
       "  } else {\n",
       "    var attempts = 0;\n",
       "    var timer = setInterval(function(root) {\n",
       "      if (root.Bokeh !== undefined && root.Bokeh.Panel !== undefined) {\n",
       "        clearInterval(timer);\n",
       "        embed_document(root);\n",
       "      } else if (document.readyState == \"complete\") {\n",
       "        attempts++;\n",
       "        if (attempts > 200) {\n",
       "          clearInterval(timer);\n",
       "          console.log(\"Bokeh: ERROR: Unable to run BokehJS code because BokehJS library is missing\");\n",
       "        }\n",
       "      }\n",
       "    }, 25, root)\n",
       "  }\n",
       "})(window);</script>"
      ],
      "text/plain": [
       ":Overlay\n",
       "   .Curve.I  :Curve   [x]   (y)\n",
       "   .Curve.II :Curve   [x]   (y)"
      ]
     },
     "execution_count": 8,
     "metadata": {
      "application/vnd.holoviews_exec.v0+json": {
       "id": "1002"
      }
     },
     "output_type": "execute_result"
    }
   ],
   "source": [
    "plot_x = np.arange(len(plot_loss))\n",
    "plot_y = np.array(plot_loss).reshape(-1,)\n",
    "hv.Curve((plot_x, -plot_y)) * hv.Curve((plot_x, mi))"
   ]
  }
 ],
 "metadata": {
  "kernelspec": {
   "display_name": "Python 3",
   "language": "python",
   "name": "python3"
  },
  "language_info": {
   "codemirror_mode": {
    "name": "ipython",
    "version": 3
   },
   "file_extension": ".py",
   "mimetype": "text/x-python",
   "name": "python",
   "nbconvert_exporter": "python",
   "pygments_lexer": "ipython3",
   "version": "3.10.9"
  }
 },
 "nbformat": 4,
 "nbformat_minor": 2
}
