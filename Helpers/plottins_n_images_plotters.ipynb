{
 "cells": [
  {
   "cell_type": "code",
   "execution_count": null,
   "metadata": {},
   "outputs": [],
   "source": [
    "import pickle\n",
    "import numpy as np\n",
    "import matplotlib.pyplot as plt\n",
    "import pandas as pd"
   ]
  },
  {
   "attachments": {},
   "cell_type": "markdown",
   "metadata": {},
   "source": [
    "Plottings of training and validation results and losses"
   ]
  },
  {
   "cell_type": "code",
   "execution_count": null,
   "metadata": {},
   "outputs": [],
   "source": [
    "# Load the pickle file\n",
    "def ma(a, window_size=100):\n",
    "    return [np.mean(a[i:i+window_size], axis = 0) for i in range(0,len(a)-window_size)]\n",
    "\n",
    "def ploting(path):\n",
    "    with open(path, 'rb') as file:\n",
    "        data = pickle.load(file)\n",
    "        plot_data = ma(data) if len(data)>100 else data\n",
    "        plt.plot(range(len(plot_data)),plot_data)\n",
    "        plt.plot(plot_data)\n",
    "        plt.title(file.name)\n",
    "        plt.show()\n",
    "\n",
    "    \n",
    "ploting('../outputs/train_losses')\n",
    "ploting('../outputs/train_results')\n",
    "ploting('../outputs/val_losses')\n",
    "ploting('../outputs/val_results')\n"
   ]
  },
  {
   "cell_type": "code",
   "execution_count": null,
   "metadata": {},
   "outputs": [],
   "source": [
    "in_dims = [7, 300]\n",
    "# Resize it to make sure it is 32x32\n",
    "image = np.random.rand(32, 32)    \n",
    "# Convert the image to an array\n",
    "image_array = np.array(image)\n",
    "# Extract the RGB values\n",
    "\n",
    "# Calculate the average RGB values\n",
    "avg_rgb = np.mean(image, axis=(0, 1))\n",
    "\n",
    "# Create a trigonometric correlation using the average RGB values\n",
    "x = np.linspace(0, 2 * np.pi, in_dims[1])\n",
    "print(x.shape)\n",
    "\n",
    "output_matrix = np.empty((in_dims[0], in_dims[1]))\n",
    "print(output_matrix.shape)\n",
    "for i in range(in_dims[1]):\n",
    "    output_matrix[i, :] = np.sin(x + avg_rgb)\n",
    "\n",
    "print(output_matrix)"
   ]
  },
  {
   "attachments": {},
   "cell_type": "markdown",
   "metadata": {},
   "source": [
    "Printing selection arrays"
   ]
  },
  {
   "cell_type": "code",
   "execution_count": null,
   "metadata": {},
   "outputs": [],
   "source": [
    "with open('../outputs/train_selection.pickle', 'rb') as file:\n",
    "    print('train_selection')\n",
    "    data = pickle.load(file)\n",
    "    print(data)\n",
    "with open('../outputs/val_selection.pickle', 'rb') as file:\n",
    "    print('val_selection')\n",
    "    data = pickle.load(file)\n",
    "    print(data)"
   ]
  },
  {
   "attachments": {},
   "cell_type": "markdown",
   "metadata": {},
   "source": [
    "Loading Cifar100 and creating labels array"
   ]
  },
  {
   "cell_type": "code",
   "execution_count": 1,
   "metadata": {},
   "outputs": [],
   "source": [
    "\n",
    "# Load CIFAR-100 dataset\n",
    "from torchvision import datasets\n",
    "import numpy as np\n"
   ]
  },
  {
   "cell_type": "code",
   "execution_count": 2,
   "metadata": {},
   "outputs": [
    {
     "name": "stdout",
     "output_type": "stream",
     "text": [
      "Files already downloaded and verified\n",
      "50000\n"
     ]
    }
   ],
   "source": [
    "\n",
    "cifar100 = datasets.CIFAR100(root='./../cifar100data', train=True, download=True)\n",
    "cifar100_lables = []\n",
    "for i in range(len(cifar100)):\n",
    "    cifar100_lables.append(cifar100[i][1])\n",
    "cifar100_lables = np.array(cifar100_lables)\n",
    "print(len(cifar100_lables))\n"
   ]
  },
  {
   "attachments": {},
   "cell_type": "markdown",
   "metadata": {},
   "source": [
    "Conversion Fucntion from Unity's stupidity to normal sequensing. "
   ]
  },
  {
   "cell_type": "code",
   "execution_count": 5,
   "metadata": {},
   "outputs": [],
   "source": [
    "def conv_alph_to_num(num):\n",
    "    if num<2 or num>89:\n",
    "        return num\n",
    "    units = num%10\n",
    "    tens = num//10\n",
    "    if (units - tens) == 1:\n",
    "        return units\n",
    "    temp = tens*10 + tens + 1\n",
    "    if (num > temp):\n",
    "        temp += 11\n",
    "    return num + (10 - temp%10)"
   ]
  },
  {
   "attachments": {},
   "cell_type": "markdown",
   "metadata": {},
   "source": [
    "Show specific image in Cifar / specific label"
   ]
  },
  {
   "cell_type": "code",
   "execution_count": 7,
   "metadata": {},
   "outputs": [
    {
     "name": "stdout",
     "output_type": "stream",
     "text": [
      "19 -> 26\n"
     ]
    },
    {
     "data": {
      "image/png": "[encoded data removed]",
      "text/plain": [
       "<Figure size 640x480 with 1 Axes>"
      ]
     },
     "metadata": {},
     "output_type": "display_data"
    }
   ],
   "source": [
    "\n",
    "simset = 19\n",
    "lbl = 19\n",
    "new_lbl = conv_alph_to_num(lbl)\n",
    "loc = np.where(cifar100_lables==new_lbl)[0][simset-1]\n",
    "# Display the image\n",
    "print(lbl, '->', cifar100[loc][1])\n",
    "plt.title(lbl)\n",
    "plt.imshow(cifar100[loc][0])\n",
    "plt.axis('off')  # Disable axis\n",
    "plt.show()"
   ]
  },
  {
   "attachments": {},
   "cell_type": "markdown",
   "metadata": {},
   "source": [
    "Printing participant's image set in the event order"
   ]
  },
  {
   "cell_type": "code",
   "execution_count": 4,
   "metadata": {},
   "outputs": [],
   "source": [
    "import matplotlib.pyplot as plt\n",
    " \n",
    "simset = 11\n",
    "\n",
    "if simset == 32 :\n",
    "    # SHL\n",
    "    labels= [83,80,58,44,1,52,9,29,46,14,6,23,69,91,54,5,76,78,62,70,50,90,13,56,95,21,82,11,43,65,71,51,34,12,8,66,79,63,72,24,10,67,27,77,41,49,17,53,18,98,92,47,26,25,7,31,59,20,42,89,48,68,32,86,81,37,85,87,39,97,4,16,75,94,0,93,57,40,74,88,30,33,99,38,3,64,36,15,73,19,84,28,96,2,35,55,22,61,60,45,75,14,97,29,69,24,69,64,25,43,62,12,87,43,40,27,9,21,83,63,56,69]\n",
    "\n",
    "if simset == 52 :\n",
    "    # AEI\n",
    "    labels = [46,48,12,41,47,69,0,39,95,98,57,64,49,7,77,18,51,56,8,36,9,71,20,58,42,62,19,72,66,79,55,94,87,78,63,14,4,89,3,91,37,33,31,70,35,25,27,1,86,22,26,5,10,15,99,54,21,34,68,24,96,45,75,43,97,84,11,13,29,17,53,76,90,50,88,30,2,82,93,73,85,28,81,23,16,74,32,60,61,83,38,6,40,92,44,80,52,67,59,65,1,56,98,18,22,76,86,12,40,23,34,33,38,12,86,82,14,62,79,11,28,36]\n",
    "\n",
    "if simset == 40 :\n",
    "    # AM\n",
    "    labels = [79,93,9,33,47,95,43,90,96,56,30,66,77,17,80,31,41,58,7,42,12,24,85,82,72,87,61,99,53,74,71,55,6,40,25,37,2,91,36,44,13,27,0,89,68,21,57,26,45,32,29,23,54,49,86,92,3,88,14,67,70,60,11,10,16,4,18,39,69,38,48,76,15,59,8,81,73,62,75,35,65,98,84,46,63,5,94,51,64,20,97,52,1,78,22,50,28,83,19,34,12,50,2,6,68,22,6,72,13,82,69,21,73,48,28,26,28,87,13,11,42,81]\n",
    "\n",
    "if simset == 42 :\n",
    "    # ASH\n",
    "    labels = [55,11,28,82,5,0,69,29,47,79,35,27,60,68,65,19,84,1,80,3,63,24,81,87,25,64,96,99,66,62,4,91,46,36,78,94,77,92,48,49,12,89,33,45,56,76,83,37,20,44,90,57,38,23,73,10,54,53,75,7,67,34,40,21,14,59,93,17,58,72,15,30,51,52,70,6,95,71,9,2,85,31,88,74,26,8,97,86,61,50,13,98,22,42,16,18,41,39,32,43,11,13,46,30,78,47,44,84,10,45,98,76,39,40,71,31,84,17,11,7,67,23]\n",
    "\n",
    "if simset == 49 :\n",
    "    # THC\n",
    "    labels = [1,10,93,33,43,91,18,71,92,86,39,56,64,77,75,6,55,49,9,95,80,52,50,13,61,19,45,67,70,20,98,46,5,53,63,26,84,40,15,28,34,24,89,60,16,78,30,12,69,38,54,88,59,51,27,76,58,79,72,73,36,17,8,48,81,37,31,68,3,2,7,62,99,14,44,65,66,87,23,25,4,21,0,96,42,22,47,11,35,57,41,85,32,74,82,94,90,83,29,97,83,79,45,86,80,56,90,63,62,40,91,9,32,56,20,72,25,47,44,23,82,86]\n",
    "\n",
    "if simset == 11 :\n",
    "    #  DI\n",
    "    labels = [12,98,41,13,73,88,45,75,61,57,71,20,86,97,0,66,27,34,55,78,62,77,48,84,52,74,50,40,18,60,43,69,47,53,70,22,39,46,51,7,24,94,23,17,2,25,9,63,93,79,92,82,99,4,8,32,87,76,67,37,35,28,6,26,1,68,72,38,54,85,58,16,3,89,21,10,65,42,90,31,33,19,96,15,83,59,44,49,14,95,56,64,11,81,29,5,36,91,30,80,47,99,31,16,84,24,50,6,28,93,49,60,96,50,68,93,82,88,31,13,31,18]\n",
    "\n",
    "\n",
    "for idx, lbl in enumerate(labels):\n",
    "    new_lbl = conv_alph_to_num(lbl)\n",
    "    loc = np.where(cifar100_lables==new_lbl)[0][simset-1]\n",
    "    # Display the image\n",
    "    print(lbl, '->', cifar100[loc][1])\n",
    "    plt.title(idx)\n",
    "    plt.imshow(cifar100[loc][0])\n",
    "    plt.axis('off')  # Disable axis\n",
    "    plt.show()\n",
    "\n"
   ]
  }
 ],
 "metadata": {
  "kernelspec": {
   "display_name": "Python 3",
   "language": "python",
   "name": "python3"
  },
  "language_info": {
   "codemirror_mode": {
    "name": "ipython",
    "version": 3
   },
   "file_extension": ".py",
   "mimetype": "text/x-python",
   "name": "python",
   "nbconvert_exporter": "python",
   "pygments_lexer": "ipython3",
   "version": "3.10.9"
  },
  "orig_nbformat": 4
 },
 "nbformat": 4,
 "nbformat_minor": 2
}
